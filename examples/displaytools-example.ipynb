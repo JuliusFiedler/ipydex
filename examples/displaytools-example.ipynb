{
 "cells": [
  {
   "cell_type": "markdown",
   "metadata": {},
   "source": [
    "This is an example for the extension `displaytools` from the package [ipydex](https://github.com/cknoll/ipydex) for the IPython Notebook.\n",
    "\n",
    "The extension introduces some \"magic\" comments (like `##` and `##:` ) which trigger additional output (normally only the return value of the last line of a cell is printed). See [Why is this useful?](#why-usefull)\n",
    "\n",
    "Note that this extension is not yet in mature state and has known issues (e.g., coping with named arguments).\n",
    "\n",
    "This example was tested successfully under python3.5 and python2.7"
   ]
  },
  {
   "cell_type": "code",
   "execution_count": 1,
   "metadata": {},
   "outputs": [
    {
     "data": {
      "text/plain": [
       "'0.6.0'"
      ]
     },
     "execution_count": 1,
     "metadata": {},
     "output_type": "execute_result"
    }
   ],
   "source": [
    "%load_ext ipydex.displaytools\n",
    "\n",
    "import ipydex\n",
    "ipydex.__version__"
   ]
  },
  {
   "cell_type": "code",
   "execution_count": 2,
   "metadata": {},
   "outputs": [],
   "source": [
    "import sympy as sp\n",
    "from sympy import sin, cos\n",
    "from sympy.abc import t, pi\n",
    "from sympy.interactive import printing\n",
    "printing.init_printing()"
   ]
  },
  {
   "cell_type": "code",
   "execution_count": 3,
   "metadata": {},
   "outputs": [
    {
     "data": {
      "image/png": "[encoded data removed]",
      "text/latex": [
       "$$- 2 \\pi \\sin{\\left (2 \\pi t \\right )}$$"
      ],
      "text/plain": [
       "-2⋅π⋅sin(2⋅π⋅t)"
      ]
     },
     "metadata": {},
     "output_type": "display_data"
    },
    {
     "name": "stdout",
     "output_type": "stream",
     "text": [
      "---\n"
     ]
    },
    {
     "data": {
      "image/png": "[encoded data removed]",
      "text/latex": [
       "$$- 2 \\pi t \\sin{\\left (2 \\pi t \\right )} + \\cos{\\left (2 \\pi t \\right )}$$"
      ],
      "text/plain": [
       "-2⋅π⋅t⋅sin(2⋅π⋅t) + cos(2⋅π⋅t)"
      ]
     },
     "metadata": {},
     "output_type": "display_data"
    },
    {
     "name": "stdout",
     "output_type": "stream",
     "text": [
      "---\n"
     ]
    },
    {
     "data": {
      "image/png": "[encoded data removed]",
      "text/latex": [
       "$$\\frac{\\partial}{\\partial t} \\cos{\\left (2 \\pi t \\right )}$$"
      ],
      "text/plain": [
       "∂             \n",
       "──(cos(2⋅π⋅t))\n",
       "∂t            "
      ]
     },
     "metadata": {},
     "output_type": "display_data"
    },
    {
     "name": "stdout",
     "output_type": "stream",
     "text": [
      "---\n"
     ]
    }
   ],
   "source": [
    "x = 2*pi*t\n",
    "y1 = cos(x)\n",
    "y2 = cos(x)*t\n",
    "ydot1 = y1.diff(t) ##\n",
    "ydot2 = y2.diff(t) ##\n",
    "ydot1_obj = y1.diff(t, evaluate=False) ##"
   ]
  },
  {
   "cell_type": "markdown",
   "metadata": {},
   "source": [
    "Note that the equation sign (i.e., `=`) must be enclosed by spaces, i.e.: `lhs = rhs`."
   ]
  },
  {
   "cell_type": "markdown",
   "metadata": {},
   "source": [
    "---\n",
    "If the variable name is also desired this can be triggered by `##:`"
   ]
  },
  {
   "cell_type": "code",
   "execution_count": 4,
   "metadata": {},
   "outputs": [
    {
     "data": {
      "image/png": "[encoded data removed]",
      "text/latex": [
       "$$\\verb|ydot1| := - 2 \\pi \\sin{\\left (2 \\pi t \\right )}$$"
      ],
      "text/plain": [
       "ydot1 := -2⋅π⋅sin(2⋅π⋅t)"
      ]
     },
     "metadata": {},
     "output_type": "display_data"
    },
    {
     "name": "stdout",
     "output_type": "stream",
     "text": [
      "---\n"
     ]
    },
    {
     "data": {
      "image/png": "[encoded data removed]",
      "text/latex": [
       "$$\\verb|ydot2| := - 2 \\pi t \\sin{\\left (2 \\pi t \\right )} + \\cos{\\left (2 \\pi t \\right )}$$"
      ],
      "text/plain": [
       "ydot2 := -2⋅π⋅t⋅sin(2⋅π⋅t) + cos(2⋅π⋅t)"
      ]
     },
     "metadata": {},
     "output_type": "display_data"
    },
    {
     "name": "stdout",
     "output_type": "stream",
     "text": [
      "---\n"
     ]
    },
    {
     "data": {
      "image/png": "[encoded data removed]",
      "text/latex": [
       "$$\\verb|ydot1_obj| := \\frac{\\partial}{\\partial t} \\cos{\\left (2 \\pi t \\right )}$$"
      ],
      "text/plain": [
       "ydot1_obj := ∂             \n",
       "──(cos(2⋅π⋅t))\n",
       "∂t            "
      ]
     },
     "metadata": {},
     "output_type": "display_data"
    },
    {
     "name": "stdout",
     "output_type": "stream",
     "text": [
      "---\n"
     ]
    }
   ],
   "source": [
    "ydot1 = y1.diff(t) ##:\n",
    "ydot2 = y2.diff(t) ##:\n",
    "ydot1_obj = y1.diff(t, evaluate=False) ##:"
   ]
  },
  {
   "cell_type": "markdown",
   "metadata": {},
   "source": [
    "---\n",
    "Printing can be combined with LaTeX rendering:"
   ]
  },
  {
   "cell_type": "code",
   "execution_count": 5,
   "metadata": {},
   "outputs": [],
   "source": [
    "sp.interactive.printing.init_printing(1)"
   ]
  },
  {
   "cell_type": "code",
   "execution_count": 6,
   "metadata": {},
   "outputs": [
    {
     "data": {
      "image/png": "[encoded data removed]",
      "text/latex": [
       "$$\\verb|ydot1| := - 2 \\pi \\sin{\\left (2 \\pi t \\right )}$$"
      ],
      "text/plain": [
       "ydot1 := -2⋅π⋅sin(2⋅π⋅t)"
      ]
     },
     "metadata": {},
     "output_type": "display_data"
    },
    {
     "name": "stdout",
     "output_type": "stream",
     "text": [
      "---\n"
     ]
    },
    {
     "data": {
      "image/png": "[encoded data removed]",
      "text/latex": [
       "$$\\verb|ydot2| := - 2 \\pi t \\sin{\\left (2 \\pi t \\right )} + \\cos{\\left (2 \\pi t \\right )}$$"
      ],
      "text/plain": [
       "ydot2 := -2⋅π⋅t⋅sin(2⋅π⋅t) + cos(2⋅π⋅t)"
      ]
     },
     "metadata": {},
     "output_type": "display_data"
    },
    {
     "name": "stdout",
     "output_type": "stream",
     "text": [
      "---\n"
     ]
    },
    {
     "data": {
      "image/png": "[encoded data removed]",
      "text/latex": [
       "$$\\verb|ydot1_obj| := \\frac{\\partial}{\\partial t} \\cos{\\left (2 \\pi t \\right )}$$"
      ],
      "text/plain": [
       "ydot1_obj := ∂             \n",
       "──(cos(2⋅π⋅t))\n",
       "∂t            "
      ]
     },
     "metadata": {},
     "output_type": "display_data"
    },
    {
     "name": "stdout",
     "output_type": "stream",
     "text": [
      "---\n"
     ]
    }
   ],
   "source": [
    "ydot1 = y1.diff(t) ##:\n",
    "ydot2 = y2.diff(t) ##:\n",
    "ydot1_obj = y1.diff(t, evaluate=False) ##:"
   ]
  },
  {
   "cell_type": "markdown",
   "metadata": {},
   "source": [
    "---\n",
    "\n",
    "If there is no assignment taking place, `##` nevertheless causes the display of the respective result."
   ]
  },
  {
   "cell_type": "code",
   "execution_count": 7,
   "metadata": {},
   "outputs": [
    {
     "data": {
      "image/png": "[encoded data removed]",
      "text/latex": [
       "$$- 4 \\pi^{2} \\cos{\\left (2 \\pi t \\right )}$$"
      ],
      "text/plain": [
       "    2           \n",
       "-4⋅π ⋅cos(2⋅π⋅t)"
      ]
     },
     "metadata": {},
     "output_type": "display_data"
    },
    {
     "name": "stdout",
     "output_type": "stream",
     "text": [
      "___\n"
     ]
    },
    {
     "data": {
      "image/png": "[encoded data removed]",
      "text/latex": [
       "$$- 4 \\pi \\left(\\pi t \\cos{\\left (2 \\pi t \\right )} + \\sin{\\left (2 \\pi t \\right )}\\right)$$"
      ],
      "text/plain": [
       "-4⋅π⋅(π⋅t⋅cos(2⋅π⋅t) + sin(2⋅π⋅t))"
      ]
     },
     "metadata": {},
     "output_type": "display_data"
    },
    {
     "name": "stdout",
     "output_type": "stream",
     "text": [
      "___\n"
     ]
    }
   ],
   "source": [
    "y1.diff(t,t) ##\n",
    "y2.diff(t,t) ##"
   ]
  },
  {
   "cell_type": "markdown",
   "metadata": {},
   "source": [
    "### Transposition\n",
    "\n",
    "Sometimes, it can save much space if some return value is displayed in transposed form (while still being assigned not transposed). Compare these examples:"
   ]
  },
  {
   "cell_type": "code",
   "execution_count": 8,
   "metadata": {},
   "outputs": [
    {
     "data": {
      "image/png": "[encoded data removed]",
      "text/latex": [
       "$$\\left[\\begin{matrix}x_{1}\\\\x_{2}\\\\x_{3}\\\\x_{4}\\\\x_{5}\\\\x_{6}\\\\x_{7}\\\\x_{8}\\\\x_{9}\\\\x_{10}\\end{matrix}\\right]$$"
      ],
      "text/plain": [
       "⎡x₁ ⎤\n",
       "⎢   ⎥\n",
       "⎢x₂ ⎥\n",
       "⎢   ⎥\n",
       "⎢x₃ ⎥\n",
       "⎢   ⎥\n",
       "⎢x₄ ⎥\n",
       "⎢   ⎥\n",
       "⎢x₅ ⎥\n",
       "⎢   ⎥\n",
       "⎢x₆ ⎥\n",
       "⎢   ⎥\n",
       "⎢x₇ ⎥\n",
       "⎢   ⎥\n",
       "⎢x₈ ⎥\n",
       "⎢   ⎥\n",
       "⎢x₉ ⎥\n",
       "⎢   ⎥\n",
       "⎣x₁₀⎦"
      ]
     },
     "metadata": {},
     "output_type": "display_data"
    },
    {
     "name": "stdout",
     "output_type": "stream",
     "text": [
      "---\n"
     ]
    },
    {
     "data": {
      "image/png": "[encoded data removed]",
      "text/latex": [
       "$$\\verb|yy.T| := \\left[\\begin{matrix}y_{1} & y_{2} & y_{3} & y_{4} & y_{5} & y_{6} & y_{7} & y_{8} & y_{9} & y_{10}\\end{matrix}\\right]$$"
      ],
      "text/plain": [
       "yy.T := [y₁  y₂  y₃  y₄  y₅  y₆  y₇  y₈  y₉  y₁₀]"
      ]
     },
     "metadata": {},
     "output_type": "display_data"
    },
    {
     "name": "stdout",
     "output_type": "stream",
     "text": [
      "---\n"
     ]
    },
    {
     "data": {
      "image/png": "[encoded data removed]",
      "text/latex": [
       "$$\\left ( 10, \\quad 1\\right )$$"
      ],
      "text/plain": [
       "(10, 1)"
      ]
     },
     "metadata": {},
     "output_type": "display_data"
    },
    {
     "data": {
      "image/png": "[encoded data removed]",
      "text/latex": [
       "$$\\left ( 10, \\quad 1\\right )$$"
      ],
      "text/plain": [
       "(10, 1)"
      ]
     },
     "metadata": {},
     "output_type": "display_data"
    },
    {
     "name": "stdout",
     "output_type": "stream",
     "text": [
      "___\n"
     ]
    }
   ],
   "source": [
    "xx = sp.Matrix(sp.symbols('x1:11')) ##\n",
    "yy = sp.Matrix(sp.symbols('y1:11')) ##:T\n",
    "\n",
    "xx.shape, yy.shape ##"
   ]
  },
  {
   "cell_type": "code",
   "execution_count": 9,
   "metadata": {},
   "outputs": [
    {
     "data": {
      "image/png": "[encoded data removed]",
      "text/latex": [
       "$$\\verb|a| := 3$$"
      ],
      "text/plain": [
       "a := 3"
      ]
     },
     "metadata": {},
     "output_type": "display_data"
    },
    {
     "name": "stdout",
     "output_type": "stream",
     "text": [
      "---\n"
     ]
    }
   ],
   "source": [
    "# combination with other comments\n",
    "a = 3 # comment ##:"
   ]
  },
  {
   "cell_type": "code",
   "execution_count": 10,
   "metadata": {},
   "outputs": [
    {
     "data": {
      "image/png": "[encoded data removed]",
      "text/latex": [
       "$$\\verb|c| := \\left [ 100, \\quad 200\\right ]$$"
      ],
      "text/plain": [
       "c := [100, 200]"
      ]
     },
     "metadata": {},
     "output_type": "display_data"
    },
    {
     "name": "stdout",
     "output_type": "stream",
     "text": [
      "---\n"
     ]
    }
   ],
   "source": [
    "# Multiline statements and indended lines are not yet supported:\n",
    "a = [1, \n",
    "     2] ##:\n",
    "\n",
    "if 1:\n",
    "    b = [10, 20] ##:\n",
    "\n",
    "\n",
    "c = [100, 200] ##:"
   ]
  },
  {
   "cell_type": "code",
   "execution_count": 11,
   "metadata": {},
   "outputs": [
    {
     "data": {
      "text/plain": [
       "A := array([[0.5488135 , 0.71518937, 0.60276338, 0.54488318],\n",
       "            [0.4236548 , 0.64589411, 0.43758721, 0.891773  ],\n",
       "            [0.96366276, 0.38344152, 0.79172504, 0.52889492],\n",
       "            [0.56804456, 0.92559664, 0.07103606, 0.0871293 ],\n",
       "            [0.0202184 , 0.83261985, 0.77815675, 0.87001215]])"
      ]
     },
     "metadata": {},
     "output_type": "display_data"
    },
    {
     "name": "stdout",
     "output_type": "stream",
     "text": [
      "---\n"
     ]
    },
    {
     "data": {
      "text/plain": [
       "np.matrix(A)  := matrix([[0.5488135 , 0.71518937, 0.60276338, 0.54488318],\n",
       "                         [0.4236548 , 0.64589411, 0.43758721, 0.891773  ],\n",
       "                         [0.96366276, 0.38344152, 0.79172504, 0.52889492],\n",
       "                         [0.56804456, 0.92559664, 0.07103606, 0.0871293 ],\n",
       "                         [0.0202184 , 0.83261985, 0.77815675, 0.87001215]])"
      ]
     },
     "metadata": {},
     "output_type": "display_data"
    },
    {
     "name": "stdout",
     "output_type": "stream",
     "text": [
      "___\n"
     ]
    },
    {
     "data": {
      "text/plain": [
       "A_with_long_name := \n",
       "array([[0.5488135 , 0.71518937, 0.60276338, 0.54488318],\n",
       "       [0.4236548 , 0.64589411, 0.43758721, 0.891773  ],\n",
       "       [0.96366276, 0.38344152, 0.79172504, 0.52889492],\n",
       "       [0.56804456, 0.92559664, 0.07103606, 0.0871293 ],\n",
       "       [0.0202184 , 0.83261985, 0.77815675, 0.87001215]])"
      ]
     },
     "metadata": {},
     "output_type": "display_data"
    },
    {
     "name": "stdout",
     "output_type": "stream",
     "text": [
      "---\n"
     ]
    }
   ],
   "source": [
    "# numpy arrays and matrices (indented to take left-hand-side into account)\n",
    "\n",
    "import numpy as np\n",
    "\n",
    "np.random.seed(0)\n",
    "\n",
    "A = np.random.random((5, 4)) ##:\n",
    "np.matrix(A) ##:\n",
    "\n",
    "# heuristic to insert a newline if indentation would be too long\n",
    "A_with_long_name = A ##:\n",
    "\n"
   ]
  },
  {
   "cell_type": "code",
   "execution_count": 12,
   "metadata": {},
   "outputs": [
    {
     "data": {
      "text/plain": [
       "B := array([[0.97861834, 0.79915856, 0.46147936, 0.78052918, 0.11827443, 0.63992102, 0.14335329],\n",
       "            [0.94466892, 0.52184832, 0.41466194, 0.26455561, 0.77423369, 0.45615033, 0.56843395],\n",
       "            [0.0187898 , 0.6176355 , 0.61209572, 0.616934  , 0.94374808, 0.6818203 , 0.3595079 ],\n",
       "            [0.43703195, 0.6976312 , 0.06022547, 0.66676672, 0.67063787, 0.21038256, 0.1289263 ],\n",
       "            [0.31542835, 0.36371077, 0.57019677, 0.43860151, 0.98837384, 0.10204481, 0.20887676]])"
      ]
     },
     "metadata": {},
     "output_type": "display_data"
    },
    {
     "name": "stdout",
     "output_type": "stream",
     "text": [
      "---\n"
     ]
    },
    {
     "data": {
      "text/plain": [
       "B_with_long_name := \n",
       "array([[0.97861834, 0.79915856, 0.46147936, 0.78052918, 0.11827443, 0.63992102, 0.14335329],\n",
       "       [0.94466892, 0.52184832, 0.41466194, 0.26455561, 0.77423369, 0.45615033, 0.56843395],\n",
       "       [0.0187898 , 0.6176355 , 0.61209572, 0.616934  , 0.94374808, 0.6818203 , 0.3595079 ],\n",
       "       [0.43703195, 0.6976312 , 0.06022547, 0.66676672, 0.67063787, 0.21038256, 0.1289263 ],\n",
       "       [0.31542835, 0.36371077, 0.57019677, 0.43860151, 0.98837384, 0.10204481, 0.20887676]])"
      ]
     },
     "metadata": {},
     "output_type": "display_data"
    },
    {
     "name": "stdout",
     "output_type": "stream",
     "text": [
      "---\n"
     ]
    }
   ],
   "source": [
    "# that new-line feature is aware of the configured linewidth\n",
    "\n",
    "np.set_printoptions(linewidth=110)\n",
    "\n",
    "B = np.random.random((5, 7)) ##:\n",
    "B_with_long_name = B ##:\n"
   ]
  },
  {
   "cell_type": "markdown",
   "metadata": {},
   "source": [
    "### Why this extension might be useful?\n",
    "<a id='why-usefull'></a>\n",
    "\n",
    " * It saves space in the final document, when intermediate results shall be displayed (e.g. for didactic purpose)\n",
    "   * allows to focus more on the content/results instead of boilerplate printing code\n",
    " * It saves typing effort during the development process (when internal information is of interest to understand and debug the code)\n",
    "   "
   ]
  },
  {
   "cell_type": "code",
   "execution_count": 13,
   "metadata": {},
   "outputs": [],
   "source": [
    "from ipydex import save_current_nb_as_html\n",
    "save_current_nb_as_html()"
   ]
  }
 ],
 "metadata": {
  "kernelspec": {
   "display_name": "Python 3",
   "language": "python",
   "name": "python3"
  },
  "language_info": {
   "codemirror_mode": {
    "name": "ipython",
    "version": 3
   },
   "file_extension": ".py",
   "mimetype": "text/x-python",
   "name": "python",
   "nbconvert_exporter": "python",
   "pygments_lexer": "ipython3",
   "version": "3.6.3"
  }
 },
 "nbformat": 4,
 "nbformat_minor": 1
}
